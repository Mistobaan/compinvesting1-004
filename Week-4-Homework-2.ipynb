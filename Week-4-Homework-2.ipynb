{
 "metadata": {
  "name": "",
  "signature": "sha256:01e8fb07443e3d8ea8c7509b8999d9ca99743fc8d762f6a0534674b15ac16649"
 },
 "nbformat": 3,
 "nbformat_minor": 0,
 "worksheets": [
  {
   "cells": [
    {
     "cell_type": "markdown",
     "metadata": {},
     "source": [
      "# Overview\n",
      "The purpose of this assignment is to introduce you to\n",
      "\n",
      "- Event studies based on historical information.\n",
      "- Reading in and processing different types of historical data.\n",
      "- Assessing the results of an event study.\n",
      "\n",
      "In this homework you will conduct \"event studies\" to assess the impact of stock price events (information) on future prices. We will use the Event Profiler that is distributed with QSTK. You can learn about the Event Profiler here: QSTK_Tutorial_9.\n",
      "\n",
      "## Part 2\n",
      "Create an event study profile of a specific \"known\" event on S&P 500 stocks, and compare its impact on two groups of stocks.\n",
      "The event is defined as when the actual close of the stock price drops below $5.00, more specifically, when:\n",
      "\n",
      "    price[t-1] >= 5.0\n",
      "    price[t] < 5.0\n",
      "\n",
      "an event has occurred on date t. Note that just because the price is below 5 it is not an event for every day that it is below 5, __only on the day it first drops below 5.__\n",
      "Evaluate this event for the time period January 1, 2008 to December 31, 2009. Compare the results using two lists of S&P 500 stocks: \n",
      "\n",
      "- The stocks that were in the S&P 500 in 2008 (sp5002008.txt)\n",
      "- the stocks that were in the S&P 500 in 2012 (sp5002012.txt). \n",
      "\n",
      "These equity lists are in the directory QSData/Yahoo/Lists. You can read them in using the QSTK call\n"
     ]
    },
    {
     "cell_type": "code",
     "collapsed": false,
     "input": [
      "%matplotlib inline"
     ],
     "language": "python",
     "metadata": {},
     "outputs": [],
     "prompt_number": 1
    },
    {
     "cell_type": "code",
     "collapsed": false,
     "input": [
      "import pandas as pd\n",
      "import numpy as np\n",
      "import math\n",
      "import copy\n",
      "import QSTK.qstkutil.qsdateutil as du\n",
      "import datetime as dt\n",
      "import QSTK.qstkutil.DataAccess as da\n",
      "import QSTK.qstkutil.tsutil as tsu\n",
      "import csv\n",
      "import QSTK.qstkstudy.EventProfiler as ep\n",
      "\n",
      "\n",
      "def find_events(ls_symbols, d_data):\n",
      "    ''' Finding the event dataframe '''\n",
      "    df_close = d_data['actual_close']\n",
      "    ts_market = df_close['SPY']\n",
      "\n",
      "    print \"Finding Events\"\n",
      "\n",
      "    # Creating an empty dataframe\n",
      "    df_events = copy.deepcopy(df_close)\n",
      "    df_events = df_events * np.NAN\n",
      "\n",
      "    # Time stamps for the event range\n",
      "    ldt_timestamps = df_close.index\n",
      "\n",
      "    for s_sym in ls_symbols:\n",
      "        for i in range(1, len(ldt_timestamps)):\n",
      "            # Calculating the returns for this timestamp\n",
      "            f_symprice_today = df_close[s_sym].ix[ldt_timestamps[i]]\n",
      "            f_symprice_yest = df_close[s_sym].ix[ldt_timestamps[i - 1]]\n",
      "            f_marketprice_today = ts_market.ix[ldt_timestamps[i]]\n",
      "            f_marketprice_yest = ts_market.ix[ldt_timestamps[i - 1]]\n",
      "            f_cutoff = 5.0\n",
      "            if f_symprice_today < f_cutoff and f_symprice_yest >= f_cutoff:\n",
      "                df_events[s_sym].ix[ldt_timestamps[i]] = 1\n",
      "\n",
      "    return df_events\n",
      "\n",
      "def plot_events(dt_start, dt_end):\n",
      "    ldt_timestamps = du.getNYSEdays(dt_start, dt_end, dt.timedelta(hours=16))\n",
      "\n",
      "    dataobj = da.DataAccess('Yahoo')\n",
      "    ls_symbols = dataobj.get_symbols_from_list('sp5002008')\n",
      "    ls_symbols.append('SPY')\n",
      "    ls_keys = ['open', 'high', 'low', 'close', 'volume', 'actual_close']\n",
      "    ldf_data = dataobj.get_data(ldt_timestamps, ls_symbols, ls_keys)\n",
      "    d_data = dict(zip(ls_keys, ldf_data))\n",
      "\n",
      "    for s_key in ls_keys:\n",
      "        d_data[s_key] = d_data[s_key].fillna(method = 'ffill')\n",
      "        d_data[s_key] = d_data[s_key].fillna(method = 'bfill')\n",
      "        d_data[s_key] = d_data[s_key].fillna(1.0)\n",
      "\n",
      "    df_events = find_events(ls_symbols, d_data)\n",
      "    print \"Creating Study\"\n",
      "    ep.eventprofiler(df_events, d_data, i_lookback=20, i_lookforward=20,\n",
      "                 s_filename='MyEventStudy.pdf', b_market_neutral=True, b_errorbars=True,\n",
      "                s_market_sym='SPY')\n"
     ],
     "language": "python",
     "metadata": {},
     "outputs": [],
     "prompt_number": 6
    },
    {
     "cell_type": "code",
     "collapsed": false,
     "input": [
      "dt_start = dt.datetime(2008, 1, 1)\n",
      "dt_end = dt.datetime(2009, 12, 31)\n",
      "plot_events(dt_start, dt_end)"
     ],
     "language": "python",
     "metadata": {},
     "outputs": [
      {
       "output_type": "stream",
       "stream": "stdout",
       "text": [
        "Finding Events\n",
        "Creating Study"
       ]
      },
      {
       "output_type": "stream",
       "stream": "stdout",
       "text": [
        "\n"
       ]
      }
     ],
     "prompt_number": 9
    },
    {
     "cell_type": "markdown",
     "metadata": {},
     "source": [
      "## Part 3\n",
      "Create your own event and experiment with it using the Event Profiler. Consider these questions:\n",
      "Is it possible to make money using your event?\n",
      "If it is possible, what investing strategy would you use? Think about details of entry (buy) and exit (sell), how many days would you hold?\n",
      "Is this a risky strategy?\n",
      "How much do you expect to make on each trade?\n",
      "How many times do you expect to be able to act on this opportunity each year?\n",
      "Is there some way to reduce the risk?"
     ]
    },
    {
     "cell_type": "code",
     "collapsed": false,
     "input": [],
     "language": "python",
     "metadata": {},
     "outputs": []
    },
    {
     "cell_type": "markdown",
     "metadata": {},
     "source": [
      "## Part 4\n",
      "Make sure the output of your program matches the example outputs below. If you have any questions, please do not hesitate to ask on the forums."
     ]
    },
    {
     "cell_type": "code",
     "collapsed": false,
     "input": [],
     "language": "python",
     "metadata": {},
     "outputs": []
    },
    {
     "cell_type": "markdown",
     "metadata": {},
     "source": [
      "## Extra Challeges\n",
      "For the time period listed above explore different price events. Is there a particular price transition that seems \"optimal?\""
     ]
    },
    {
     "cell_type": "code",
     "collapsed": false,
     "input": [],
     "language": "python",
     "metadata": {},
     "outputs": []
    }
   ],
   "metadata": {}
  }
 ]
}