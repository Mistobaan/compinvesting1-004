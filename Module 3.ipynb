{
 "metadata": {
  "name": "",
  "signature": "sha256:3ddcec9aef90411e3b74be962457fb5bfc0698526ed01986454051286d357430"
 },
 "nbformat": 3,
 "nbformat_minor": 0,
 "worksheets": [
  {
   "cells": [
    {
     "cell_type": "markdown",
     "metadata": {},
     "source": [
      "## Types of Orders (at the Exchange)\n",
      "\n",
      "- Symbol\n",
      "- Buy, Sell\n",
      "- Market, Limit\n",
      "- Shares\n",
      "- Price (if Limit)\n",
      "\n",
      "# How Hedge Funds Exploit Market Mechanics 1\n",
      "- Place Orders\n",
      "\n",
      "# How Hedge Funds Exploit Market Mechanics II \n",
      "- Arbitrage\n",
      "\n",
      "## Target Portfolio\n",
      "List of position that we want to achieve\n",
      "\n",
      "Don't sell all your position or the market is going to come against you\n",
      "*Fat Fingered the trade*: selling millions of shares\n",
      "\n",
      "\n",
      "- N-day forecast\n",
      "- Current Portfolio\n",
      "- Portofolio Optimizer \n",
      "- Historical PRices, Data\n",
      "\n",
      "- Target Portfolio\n",
      "\n",
      "Portfolio should have very low volatility\n",
      "\n",
      "Where do we get these information ? `Cramer on Tv`\n",
      "- Forecasting Algorithm\n",
      "- News Information Feed\n",
      "\n",
      "\n",
      "# Objectives\n",
      "\n",
      "- Understand order types\n",
      "- Understand order book at exchanges\n",
      "- Understand how buy/sell orders drive prices up or down\n",
      "- Understand the basic infrastructure of an exchange\n",
      "- Understand the major computation componetns of a hedge fund"
     ]
    },
    {
     "cell_type": "markdown",
     "metadata": {},
     "source": [
      "# Trigger Orders\n",
      "Will follow as the stock goes up or down\n",
      "\n"
     ]
    },
    {
     "cell_type": "code",
     "collapsed": false,
     "input": [],
     "language": "python",
     "metadata": {},
     "outputs": []
    }
   ],
   "metadata": {}
  }
 ]
}