{
 "metadata": {
  "name": "",
  "signature": "sha256:c5da28c0dfe0680bb53e65fcb0bc82ceb93aa53cc31efad1c8d9cff9d3d6d9a5"
 },
 "nbformat": 3,
 "nbformat_minor": 0,
 "worksheets": [
  {
   "cells": [
    {
     "cell_type": "markdown",
     "metadata": {},
     "source": [
      "# Write a Python function\n",
      "\n",
      "Write a Python function that can simulate and assess the performance of a 4 stock portfolio.\n",
      "\n",
      "Inputs to the function include:\n",
      "\n",
      "- Start date\n",
      "- End date\n",
      "- Symbols for for equities (e.g., GOOG, AAPL, GLD, XOM)\n",
      "- Allocations to the equities at the beginning of the simulation (e.g., 0.2, 0.3, 0.4, 0.1)\n",
      "\n",
      "## The function should return:\n",
      "\n",
      "- Standard deviation of daily returns of the total portfolio\n",
      "- Average daily return of the total portfolio\n",
      "- Sharpe ratio (Always assume you have 252 trading days in an year. And risk free rate = 0) of the total portfolio\n",
      "- Cumulative return of the total portfolio\n",
      "\n",
      "An example of how you might call the function in your program:\n",
      "\n",
      "    vol, daily_ret, sharpe, cum_ret = simulate(startdate, enddate, ['GOOG','AAPL','GLD','XOM'], [0.2,0.3,0.4,0.1])"
     ]
    },
    {
     "cell_type": "code",
     "collapsed": false,
     "input": [
      "import QSTK.qstkutil.qsdateutil as du\n",
      "import QSTK.qstkutil.tsutil as tsu\n",
      "import QSTK.qstkutil.DataAccess as da\n",
      "\n",
      "import datetime as dt\n",
      "import matplotlib.pyplot as plt\n",
      "import pandas as pd\n",
      "import numpy as np\n",
      "\n",
      "\n",
      "template = \"\"\"\n",
      "Start Date: {dt_start}\n",
      "End Date: {dt_end}\n",
      "Symbols: {symbols}\n",
      "Optimal Allocations: {result}\n",
      "Sharpe Ratio: {sharpe_ratio}\n",
      "Volatility (stdev of daily returns):  {std_daily_returns}\n",
      "Average Daily Return:  {mean_daily_returns}\n",
      "Cumulative Return:  {cumulative}\n",
      "\"\"\"\n",
      "\n",
      "def simulate(dt_start, dt_end, symbols, allocation):\n",
      "    assert(sum(allocation) == 1)\n",
      "    c_dataobj = da.DataAccess('Yahoo', cachestalltime=0)  \n",
      "    dt_timeofday = dt.timedelta(hours=16)\n",
      "    ldt_timestamps = du.getNYSEdays(dt_start, dt_end, dt_timeofday)\n",
      "    ls_keys = ['open', 'high', 'low', 'close', 'volume', 'actual_close']\n",
      "    ldf_data = c_dataobj.get_data(ldt_timestamps, symbols, ls_keys)\n",
      "    for sym, amnt in zip(symbols,allocation):        \n",
      "        na_price = ldf_data[ls_keys.index('close')]['GOOG'] \n",
      "        na_normalized_price = na_price / na_price[0]\n",
      "        na_rets = na_normalized_price.copy()\n",
      "        na_rets *= 100 * amnt  # 100 * 0.4 stock \n",
      "        \n",
      "    na_daily_returns = tsu.returnize0(na_rets)\n",
      "    mean_daily_returns = na_daily_returns.mean()\n",
      "    std_daily_returns = na_daily_returns.std()   \n",
      "    k = np.sqrt(252) # 252 is number of trading days\n",
      "    sharpe_ratio = k * (mean_daily_returns/std_daily_returns)\n",
      "    \n",
      "    result = [0.4, 0.4, 0.0, 0.2]\n",
      "    cumulative = na_daily_returns.sum()\n",
      "    print(template).format(**locals())\n",
      "\n",
      "    "
     ],
     "language": "python",
     "metadata": {},
     "outputs": [],
     "prompt_number": 124
    },
    {
     "cell_type": "code",
     "collapsed": false,
     "input": [
      "startdate = dt.datetime(2011, 1, 1)\n",
      "enddate = dt.datetime(2011, 12, 31)\n",
      " \n",
      "simulate(startdate, enddate, ['GOOG','AAPL', 'GLD'], [0.2, 0.3, 0.4, 0.1]) "
     ],
     "language": "python",
     "metadata": {},
     "outputs": [
      {
       "output_type": "stream",
       "stream": "stdout",
       "text": [
        "\n",
        "Start Date: 2011-01-01 00:00:00\n",
        "End Date: 2011-12-31 00:00:00\n",
        "Symbols: ['GOOG', 'AAPL', 'GLD']\n",
        "Optimal Allocations: [0.4, 0.4, 0.0, 0.2]\n",
        "Sharpe Ratio: 0.371846540397\n",
        "Volatility (stdev of daily returns):  0.018509500515\n",
        "Average Daily Return:  0.000433568951487\n",
        "Cumulative Return:  0.109259375775\n",
        "\n"
       ]
      }
     ],
     "prompt_number": 125
    },
    {
     "cell_type": "code",
     "collapsed": false,
     "input": [],
     "language": "python",
     "metadata": {},
     "outputs": []
    }
   ],
   "metadata": {}
  }
 ]
}