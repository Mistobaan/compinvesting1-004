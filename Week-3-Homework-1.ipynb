{
 "metadata": {
  "name": "",
  "signature": "sha256:408ef9a18c0bb19c7d652f4cd8f6bd0cce110e2825b0eb45f1230c741ef855f4"
 },
 "nbformat": 3,
 "nbformat_minor": 0,
 "worksheets": [
  {
   "cells": [
    {
     "cell_type": "markdown",
     "metadata": {},
     "source": [
      "# Write a Python function\n",
      "\n",
      "Write a Python function that can simulate and assess the performance of a 4 stock portfolio.\n",
      "\n",
      "Inputs to the function include:\n",
      "\n",
      "- Start date\n",
      "- End date\n",
      "- Symbols for for equities (e.g., GOOG, AAPL, GLD, XOM)\n",
      "- Allocations to the equities at the beginning of the simulation (e.g., 0.2, 0.3, 0.4, 0.1)\n",
      "\n",
      "## The function should return:\n",
      "\n",
      "- Standard deviation of daily returns of the total portfolio\n",
      "- Average daily return of the total portfolio\n",
      "- Sharpe ratio (Always assume you have 252 trading days in an year. And risk free rate = 0) of the total portfolio\n",
      "- Cumulative return of the total portfolio\n",
      "\n",
      "An example of how you might call the function in your program:\n",
      "\n",
      "    vol, daily_ret, sharpe, cum_ret = simulate(startdate, enddate, ['GOOG','AAPL','GLD','XOM'], [0.2,0.3,0.4,0.1])"
     ]
    },
    {
     "cell_type": "code",
     "collapsed": false,
     "input": [
      "import QSTK.qstkutil.qsdateutil as du\n",
      "import QSTK.qstkutil.tsutil as tsu\n",
      "import QSTK.qstkutil.DataAccess as da\n",
      "\n",
      "import datetime as dt\n",
      "import matplotlib.pyplot as plt\n",
      "import pandas as pd\n",
      "import numpy as np\n",
      "\n",
      "\n",
      "template = \"\"\"\n",
      "Start Date: {dt_start_str}\n",
      "End Date: {dt_end_str}\n",
      "Symbols: {symbols}\n",
      "Optimal Allocations: {best_portfolio}\n",
      "Sharpe Ratio: {max_sharpe}\n",
      "Volatility (stdev of daily returns):  {final_stddev}\n",
      "Average Daily Return:  {final_daily_ret}\n",
      "Cumulative Return:  {final_cum_ret}\n",
      "\"\"\"\n",
      "def simulate(na_rets, lf_alloc):\n",
      "    ''' Simulate Function'''\n",
      "    # Estimate portfolio returns\n",
      "    na_portfolio_rets = np.sum(na_rets * lf_alloc, axis=1)\n",
      "    cum_ret = na_portfolio_rets[-1]\n",
      "    # returnize0 Computes stepwise (usually daily) returns relative to 0, \n",
      "    # where 0 implies no change in value\n",
      "    # http://www.quantsoftware.org/Docs/html/QSTK.qstkutil.tsutil-module.html\n",
      "    tsu.returnize0(na_portfolio_rets)\n",
      "\n",
      "    # Statistics to calculate\n",
      "    stddev = np.std(na_portfolio_rets)\n",
      "    daily_ret = np.mean(na_portfolio_rets)\n",
      "    # Fabrizio: note the days here is important to calculate the sharpe\n",
      "    sharpe = (np.sqrt(252) * daily_ret) / stddev\n",
      "    return stddev, daily_ret, sharpe, cum_ret\n",
      "\n",
      "def gen_allocator(n, increment=0.1):\n",
      "    '''generate all the possible allocations given an increment'''\n",
      "    numbers = np.linspace(0., 1., num=int(1.0/increment)+1)\n",
      "    # combinations that summ to 1. Must have replacement to support cases like 0.4, 0.4, 0.2, 0.2\n",
      "    for comb in itertools.combinations_with_replacement(numbers, n):\n",
      "        if sum(comb) == 1:\n",
      "            # for each combination with want all the permutations\n",
      "            for point in itertools.permutations(comb):\n",
      "                yield list(point)\n",
      "\n",
      "def chart_compare_to_spy(dt_start, dt_end, ls_symbols, best_portfolio):\n",
      "    c_dataobj = da.DataAccess('Yahoo', cachestalltime=0)  \n",
      "    dt_timeofday = dt.timedelta(hours=16)\n",
      "    ldt_timestamps = du.getNYSEdays(dt_start, dt_end, dt_timeofday)\n",
      "    ls_keys = ['open', 'high', 'low', 'close', 'volume', 'actual_close']\n",
      "    \n",
      "    ls_symbols_toread = list(set(ls_symbols) | set(['SPY']))\n",
      "\n",
      "    # Reading the data, now d_data is a dictionary with the keys above.\n",
      "    # Timestamps and symbols are the ones that were specified before.\n",
      "    ldf_data = c_dataobj.get_data(ldt_timestamps, ls_symbols_toread, ls_keys)\n",
      "    d_data = dict(zip(ls_keys, ldf_data))\n",
      "\n",
      "    # Copying close price into separate dataframe to find rets\n",
      "    df_rets = d_data['close'].copy()\n",
      "    # Filling the data.\n",
      "    df_rets = df_rets.fillna(method='ffill')\n",
      "    df_rets = df_rets.fillna(method='bfill')\n",
      "\n",
      "    df_rets = df_rets.reindex(columns=ls_symbols)\n",
      "\n",
      "    # Numpy matrix of filled data values\n",
      "    na_rets = df_rets.values\n",
      "    # returnize0 works on ndarray and not dataframes.\n",
      "    tsu.returnize0(na_rets)\n",
      "\n",
      "    # Estimate portfolio returns\n",
      "    na_portrets = np.sum(na_rets * best_portfolio, axis=1)\n",
      "    na_port_total = np.cumprod(na_portrets + 1)\n",
      "\n",
      "    na_market = d_data['close']['SPY'].values\n",
      "    na_market = na_market/na_market[0]\n",
      "\n",
      "    # Plotting the prices with x-axis=timestamps\n",
      "    plt.clf()\n",
      "    plt.plot(ldt_timestamps, na_port_total, label='Portfolio')\n",
      "    plt.plot(ldt_timestamps, na_market, label='SPY')\n",
      "    plt.legend()\n",
      "    plt.ylabel('Returns')\n",
      "    plt.xlabel('Date')\n",
      "    plt.show()#savefig('homework1.pdf', format='pdf')\n",
      "\n",
      "\n",
      "def best_portfolio(dt_start, dt_end, symbols, increment=0.1):\n",
      "    c_dataobj = da.DataAccess('Yahoo', cachestalltime=0)  \n",
      "    dt_timeofday = dt.timedelta(hours=16)\n",
      "    ldt_timestamps = du.getNYSEdays(dt_start, dt_end, dt_timeofday)\n",
      "    ls_keys = ['open', 'high', 'low', 'close', 'volume', 'actual_close']\n",
      "    ldf_data = c_dataobj.get_data(ldt_timestamps, symbols, ls_keys)\n",
      "    d_data = dict(zip(ls_keys, ldf_data))\n",
      "    df_rets = d_data['close'].copy()\n",
      "\n",
      "    # Filling the data.\n",
      "    df_rets = df_rets.fillna(method='ffill')\n",
      "    df_rets = df_rets.fillna(method='bfill')\n",
      "    # Numpy matrix of filled data values\n",
      "    na_rets = df_rets.values\n",
      "    na_normalized_rets = na_rets / na_rets[0, :] \n",
      "    \n",
      "    # Fabrizo: if all the stocks are loosing the best allocation is to\n",
      "    # not allocate at all. \n",
      "    lf_alloc = [0.0] * len(symbols)\n",
      "    max_sharpe = -1000\n",
      "    final_stddev = -1000\n",
      "    final_daily_ret = -1000\n",
      "    final_cum_ret = -1000\n",
      "    best_portfolio = lf_alloc\n",
      "    \n",
      "    # create all the possible allocations and select the one that perform best\n",
      "    for allocation in gen_allocator(len(symbols), increment):\n",
      "        stddev, daily_ret, sharpe, cum_ret = simulate(na_normalized_rets, allocation)\n",
      "        # we use sharpe ratio as maximizer\n",
      "        if sharpe > max_sharpe:\n",
      "            max_sharpe = sharpe\n",
      "            final_stddev = stddev\n",
      "            final_cum_ret = cum_ret\n",
      "            final_daily_ret = daily_ret\n",
      "            best_portfolio = allocation\n",
      "\n",
      "    dt_start_str =  dt_start.strftime(\"%B %d %Y\")\n",
      "    dt_end_str = dt_end.strftime(\"%B %d %Y\")\n",
      "    print(template).format(**locals())    \n",
      "    chart_compare_to_spy(dt_start, dt_end, symbols, best_portfolio)"
     ],
     "language": "python",
     "metadata": {},
     "outputs": [],
     "prompt_number": 104
    },
    {
     "cell_type": "code",
     "collapsed": false,
     "input": [
      "startdate = dt.datetime(2011, 1, 1)\n",
      "enddate = dt.datetime(2011, 12, 31)\n",
      " \n",
      "best_portfolio(startdate, enddate, ['AAPL', 'GLD', 'GOOG', 'XOM']) "
     ],
     "language": "python",
     "metadata": {},
     "outputs": [
      {
       "output_type": "stream",
       "stream": "stdout",
       "text": [
        "\n",
        "Start Date: January 01 2011\n",
        "End Date: December 31 2011\n",
        "Symbols: ['AAPL', 'GLD', 'GOOG', 'XOM']\n",
        "Optimal Allocations: [0.40000000000000002, 0.40000000000000002, 0.0, 0.20000000000000001]\n",
        "Sharpe Ratio: 1.02828403099\n",
        "Volatility (stdev of daily returns):  0.0101467067654\n",
        "Average Daily Return:  0.000657261102001\n",
        "Cumulative Return:  1.16487261965\n",
        "\n"
       ]
      }
     ],
     "prompt_number": 105
    },
    {
     "cell_type": "code",
     "collapsed": false,
     "input": [
      "startdate = dt.datetime(2010, 1, 1)\n",
      "enddate = dt.datetime(2010, 12, 31)\n",
      " \n",
      "best_portfolio(startdate, enddate, ['AXP', 'HPQ', 'IBM', 'HNZ'])"
     ],
     "language": "python",
     "metadata": {},
     "outputs": [
      {
       "output_type": "stream",
       "stream": "stdout",
       "text": [
        "\n",
        "Start Date: January 01 2010\n",
        "End Date: December 31 2010\n",
        "Symbols: ['AXP', 'HPQ', 'IBM', 'HNZ']\n",
        "Optimal Allocations: [0.0, 0.0, 0.0, 1.0]\n",
        "Sharpe Ratio: 1.29889334008\n",
        "Volatility (stdev of daily returns):  0.00924299255937\n",
        "Average Daily Return:  0.000756285585593\n",
        "Cumulative Return:  1.1960583568\n",
        "\n"
       ]
      }
     ],
     "prompt_number": 106
    },
    {
     "cell_type": "code",
     "collapsed": false,
     "input": [
      "startdate = dt.datetime(2011, 1, 1)\n",
      "enddate = dt.datetime(2011, 12, 31)\n",
      " \n",
      "best_portfolio(startdate, enddate, ['BRCM', 'ADBE', 'AMD', 'ADI']) "
     ],
     "language": "python",
     "metadata": {},
     "outputs": [
      {
       "output_type": "stream",
       "stream": "stdout",
       "text": [
        "\n",
        "Start Date: January 01 2011\n",
        "End Date: December 31 2011\n",
        "Symbols: ['BRCM', 'ADBE', 'AMD', 'ADI']\n",
        "Optimal Allocations: [0.0, 0.0, 0.0, 1.0]\n",
        "Sharpe Ratio: 0.0459503421048\n",
        "Volatility (stdev of daily returns):  0.0190475488687\n",
        "Average Daily Return:  5.5135024918e-05\n",
        "Cumulative Return:  0.968672026615\n",
        "\n"
       ]
      }
     ],
     "prompt_number": 107
    },
    {
     "cell_type": "code",
     "collapsed": false,
     "input": [
      "startdate = dt.datetime(2011, 1, 1)\n",
      "enddate = dt.datetime(2011, 12, 31)\n",
      " \n",
      "best_portfolio(startdate, enddate, ['BRCM', 'TXN', 'IBM', 'HNZ']) "
     ],
     "language": "python",
     "metadata": {},
     "outputs": [
      {
       "output_type": "stream",
       "stream": "stdout",
       "text": [
        "\n",
        "Start Date: January 01 2011\n",
        "End Date: December 31 2011\n",
        "Symbols: ['BRCM', 'TXN', 'IBM', 'HNZ']\n",
        "Optimal Allocations: [0.0, 0.0, 1.0, 0.0]\n",
        "Sharpe Ratio: 1.17527772638\n",
        "Volatility (stdev of daily returns):  0.0140679092798\n",
        "Average Daily Return:  0.00104152522853\n",
        "Cumulative Return:  1.26792321117\n",
        "\n"
       ]
      }
     ],
     "prompt_number": 108
    },
    {
     "cell_type": "markdown",
     "metadata": {},
     "source": [
      "#Extra challenges\n",
      "\n",
      "If you felt that this assignment was \"too easy\" try these additional challenges. Sorry, but we don't offer extra credit:\n",
      "\n",
      "- Note that we requested the optimal portfolio in allocation \"chunks\" of 10%. This was to keep the search space down. There at most 10,000 legal portfolios (10*10*10*10). If we wanted a more precise answer, say in 1% increments, it would require you to check up to 100,000,000 portfolios, and may take to long for you to check them in a brute force manner. Challenge: Devise a way to efficiently search the space of possible portfolios so that you can find a more precise answer without having to test 100M portfolios (hint: gradient ascent).\n",
      "- Find the optimal portfolio of N equities given M equities as input. For example, what is the best portfolio of 10 stocks given all of the S&P 500?\n",
      "- Allow short positions (i.e., negative allocations)."
     ]
    },
    {
     "cell_type": "code",
     "collapsed": false,
     "input": [],
     "language": "python",
     "metadata": {},
     "outputs": []
    }
   ],
   "metadata": {}
  }
 ]
}