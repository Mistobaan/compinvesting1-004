{
 "metadata": {
  "name": "",
  "signature": "sha256:390c88b4710d213ef14f832cdcf14c82b92ca4eeb5084187fb58cb126081b871"
 },
 "nbformat": 3,
 "nbformat_minor": 0,
 "worksheets": [
  {
   "cells": [
    {
     "cell_type": "markdown",
     "metadata": {},
     "source": [
      "# Marriage Challenge\n",
      "\n",
      "http://wiki.quantsoftware.org/index.php?title=Challenge_Marriage\n",
      "\n",
      "First, a definition of our dating/marriage universe\n",
      "\n",
      "__Assume__:\n",
      "\n",
      "Salaries of men and women are uniformly distributed between 0/year and 200 /year.\n",
      "\n",
      "All unmarried men and unmarried women are paired at random and allowed to date.\n",
      "\n",
      "On a particular date, if the man has a higher salary than the woman, they get married, and both are removed from the pool of daters.\n",
      "\n",
      "After all dates in one cycle are completed, a new cycle of dating begins.\n",
      "\n",
      "Dating continues ad infinitum."
     ]
    },
    {
     "cell_type": "code",
     "collapsed": false,
     "input": [
      "%matplotlib inline"
     ],
     "language": "python",
     "metadata": {},
     "outputs": [],
     "prompt_number": 29
    },
    {
     "cell_type": "code",
     "collapsed": false,
     "input": [
      "import numpy as np\n",
      "\n",
      "def marriage(randf):\n",
      "    male_pop = 100\n",
      "    female_pop = 100\n",
      "    marriage_rate = []\n",
      "    periods = range(0, 10000)\n",
      "    male = randf(size=male_pop) * 200\n",
      "    female = randf(size=female_pop) * 200\n",
      "\n",
      "    for cycles in periods:    \n",
      "        marriage_rate.append(len(male))\n",
      "        np.random.shuffle(male)\n",
      "        np.random.shuffle(female)        \n",
      "        remain = []\n",
      "        for idx, (m,f) in enumerate(zip(list(male), list(female))):\n",
      "            if m <= f:\n",
      "                remain.append(idx)\n",
      "        male = male[remain]\n",
      "        female= female[remain]\n",
      "    return periods, marriage_rate\n",
      "\n",
      "import matplotlib.pyplot as plt\n",
      "plt.plot(*marriage(np.random.uniform))"
     ],
     "language": "python",
     "metadata": {},
     "outputs": [
      {
       "metadata": {},
       "output_type": "pyout",
       "prompt_number": 56,
       "text": [
        "[<matplotlib.lines.Line2D at 0x10abb2b50>]"
       ]
      },
      {
       "metadata": {},
       "output_type": "display_data",
       "png": "[encoded data removed]",
       "text": [
        "<matplotlib.figure.Figure at 0x108fbbc90>"
       ]
      }
     ],
     "prompt_number": 56
    },
    {
     "cell_type": "markdown",
     "metadata": {},
     "source": [
      "## Question 1\n",
      "\n",
      "What percentage of the people in this universe will get married?"
     ]
    },
    {
     "cell_type": "code",
     "collapsed": false,
     "input": [
      "married = marriage(np.random.uniform)[1][-1]\n",
      "\n",
      "(married/1000.) * 100"
     ],
     "language": "python",
     "metadata": {},
     "outputs": [
      {
       "metadata": {},
       "output_type": "pyout",
       "prompt_number": 57,
       "text": [
        "3.4000000000000004"
       ]
      }
     ],
     "prompt_number": 57
    },
    {
     "cell_type": "markdown",
     "metadata": {},
     "source": [
      "## Question 2\n",
      "\n",
      "Does the distribution of salaries matter? Why or why not? What if we used a normal distribution instead?"
     ]
    },
    {
     "cell_type": "code",
     "collapsed": false,
     "input": [
      "plt.plot(*marriage(np.random.normal))"
     ],
     "language": "python",
     "metadata": {},
     "outputs": [
      {
       "metadata": {},
       "output_type": "pyout",
       "prompt_number": 58,
       "text": [
        "[<matplotlib.lines.Line2D at 0x10acb6490>]"
       ]
      },
      {
       "metadata": {},
       "output_type": "display_data",
       "png": "[encoded data removed]",
       "text": [
        "<matplotlib.figure.Figure at 0x10aa6a150>"
       ]
      }
     ],
     "prompt_number": 58
    },
    {
     "cell_type": "code",
     "collapsed": false,
     "input": [
      "married = marriage(np.random.uniform)[1][-1]\n",
      "\n",
      "(married/1000.) * 100"
     ],
     "language": "python",
     "metadata": {},
     "outputs": [
      {
       "metadata": {},
       "output_type": "pyout",
       "prompt_number": 59,
       "text": [
        "2.7"
       ]
      }
     ],
     "prompt_number": 59
    },
    {
     "cell_type": "markdown",
     "metadata": {},
     "source": [
      "## Question 3\n",
      "\n",
      "This is probably the most important question. Looking back to the answer from #1 above, does this number related to a natural constant, or familiar number from science or math? What is that constant and why is this result close or equal to it?"
     ]
    },
    {
     "cell_type": "markdown",
     "metadata": {},
     "source": [
      "$\\pi$"
     ]
    },
    {
     "cell_type": "code",
     "collapsed": false,
     "input": [
      "import math\n",
      "\n",
      "math.pi"
     ],
     "language": "python",
     "metadata": {},
     "outputs": [
      {
       "metadata": {},
       "output_type": "pyout",
       "prompt_number": 61,
       "text": [
        "3.141592653589793"
       ]
      }
     ],
     "prompt_number": 61
    },
    {
     "cell_type": "code",
     "collapsed": false,
     "input": [],
     "language": "python",
     "metadata": {},
     "outputs": []
    }
   ],
   "metadata": {}
  }
 ]
}