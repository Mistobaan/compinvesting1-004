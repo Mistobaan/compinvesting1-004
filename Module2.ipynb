{
 "metadata": {
  "name": "",
  "signature": "sha256:07b71631c0daeadce54c562853669462a229480d4a81899d6c55df677fd1a958"
 },
 "nbformat": 3,
 "nbformat_minor": 0,
 "worksheets": [
  {
   "cells": [
    {
     "cell_type": "markdown",
     "metadata": {},
     "source": [
      "# Module 2 September 2014"
     ]
    },
    {
     "cell_type": "markdown",
     "metadata": {},
     "source": [
      "- Annual Return: How Much do we return a year $$ \\frac{value[end]}{value[start]} -1$$\n",
      "- Risk: Standard deviation of Return\n",
      "- Risk: Drawn Down (lower is better)\n",
      "- Sharpe Ratio: How much reward do we have for how much risk ( Higher Is Better )\n",
      "- Sortino Ratio: \n",
      "- Jensen's Alpha"
     ]
    },
    {
     "cell_type": "markdown",
     "metadata": {},
     "source": [
      "## Question 1\n",
      "What is the annual return for an equity that started trading at $400 at the beginning of the year. And was priced at $470 at the end of the year (Answer in percentage returns).\n"
     ]
    },
    {
     "cell_type": "code",
     "collapsed": false,
     "input": [
      "start = 400.\n",
      "end = 470.\n",
      "annual_return = (end / start) -1.\n",
      "print annual_return * 100"
     ],
     "language": "python",
     "metadata": {},
     "outputs": [
      {
       "output_type": "stream",
       "stream": "stdout",
       "text": [
        "17.5\n"
       ]
      }
     ],
     "prompt_number": 4
    },
    {
     "cell_type": "markdown",
     "metadata": {},
     "source": [
      "## Standard deviation of Daily Return\n",
      "\n",
      "$$ daily\\_rets[i] = \\frac{value[i]}{value[i-1]}-1 $$\n",
      "\n",
      "$$ std\\_metric = std(daily\\_rest) $$"
     ]
    },
    {
     "cell_type": "markdown",
     "metadata": {},
     "source": [
      "## Max Drawn Down\n",
      "\n",
      "???"
     ]
    },
    {
     "cell_type": "markdown",
     "metadata": {},
     "source": [
      "# Sharpe Ratio\n",
      "\n"
     ]
    },
    {
     "cell_type": "markdown",
     "metadata": {},
     "source": [
      "Most important measure of asset performance\n",
      "\n",
      "How well does the return of an asset compensate the investor for the risk taken ?\n",
      "The higher the Sharpe ratio the better"
     ]
    },
    {
     "cell_type": "markdown",
     "metadata": {},
     "source": [
      "$$ S = \\frac{E[R- R_f]}{\\theta} =  \\frac{E[R- R_f]}{\\sqrt{var[R-R_f]}} $$"
     ]
    },
    {
     "cell_type": "markdown",
     "metadata": {},
     "source": [
      "$$ Sharpe\\ Ratio = k * \\frac{daily\\ returns}{std(daily\\ returns)} $$"
     ]
    },
    {
     "cell_type": "markdown",
     "metadata": {},
     "source": [
      "$$ k = sqrt(250) $$"
     ]
    },
    {
     "cell_type": "markdown",
     "metadata": {},
     "source": [
      "250 is the number of trading days in a year"
     ]
    },
    {
     "cell_type": "markdown",
     "metadata": {},
     "source": [
      "## Sharpino Ratio\n",
      "\n",
      "It is a modification of the Sharpe ratio but penalizes only those returns falling below a user-specified target, or required rate of return, while the Sharpe ratio penalizes both upside and downside volatility equally. "
     ]
    },
    {
     "cell_type": "markdown",
     "metadata": {},
     "source": [
      "## Question2\n",
      "What is the sharpe ratio for a fund that has\n",
      "- mean(daily return) = 0.005\n",
      "- standard deviation (daily) = 0.04? \n",
      "\n",
      "assume 250 trading days in the year (Answer in numerical value with 3 decimals)"
     ]
    },
    {
     "cell_type": "code",
     "collapsed": false,
     "input": [
      "import math\n",
      "mean_daily_return = 0.005 \n",
      "std_daily_return = 0.04\n",
      "k = math.sqrt(250)\n",
      "sharpe_ratio = k * (mean_daily_return/std_daily_return)\n",
      "print sharpe_ratio"
     ],
     "language": "python",
     "metadata": {},
     "outputs": [
      {
       "output_type": "stream",
       "stream": "stdout",
       "text": [
        "1.97642353761\n"
       ]
      }
     ],
     "prompt_number": 9
    },
    {
     "cell_type": "markdown",
     "metadata": {},
     "source": [
      "Get Yahoo stock values for apple, IBM and MSFT"
     ]
    },
    {
     "cell_type": "code",
     "collapsed": false,
     "input": [
      "import pandas.io.data as web \n",
      "import pandas as pd\n",
      "import datetime\n",
      "import numpy as np\n",
      "import math\n",
      "\n",
      "# get the same data of the video\n",
      "start = datetime.datetime(2011, 12, 1)\n",
      "end = datetime.datetime(2011, 12, 31)\n",
      "\n",
      "market = web.DataReader(\"AAPL\", 'yahoo', start, end)\n",
      "apple_adj_close = market[\"Adj Close\"]\n",
      "market[\"daily returns\"] = daily_returns = ((apple_adj_close.shift(-1) / apple_adj_close) -1).fillna(0)\n",
      "mean_daily_returns = daily_returns.mean()\n",
      "std_daily_returns = daily_returns.std()\n",
      "market['Daily Returns %'] = pd.Series([\"{0:.2f}%\".format(val * 100) for val in daily_returns], index = market.index)\n",
      "\n",
      "print \"total returns\", (apple_adj_close.ix[-1] / apple_adj_close.ix[0]) -1.\n",
      "print \"average %.2f \" % (mean_daily_returns * 100)\n",
      "print \"stddev  %.2f \" % std_daily_returns\n",
      "print \"sharpe ratio %.2f\" % ( k * (mean_daily_returns/std_daily_returns) )"
     ],
     "language": "python",
     "metadata": {},
     "outputs": [
      {
       "output_type": "stream",
       "stream": "stdout",
       "text": [
        "total returns 0.0440144185164\n",
        "average 0.21 \n",
        "stddev  0.01 \n",
        "sharpe ratio 3.05\n"
       ]
      }
     ],
     "prompt_number": 82
    },
    {
     "cell_type": "code",
     "collapsed": false,
     "input": [
      "market[[\"Adj Close\", \"Daily Returns %\"]]"
     ],
     "language": "python",
     "metadata": {},
     "outputs": [
      {
       "html": [
        "<div style=\"max-height:1000px;max-width:1500px;overflow:auto;\">\n",
        "<table border=\"1\" class=\"dataframe\">\n",
        "  <thead>\n",
        "    <tr style=\"text-align: right;\">\n",
        "      <th></th>\n",
        "      <th>Adj Close</th>\n",
        "      <th>Daily Returns %</th>\n",
        "    </tr>\n",
        "    <tr>\n",
        "      <th>Date</th>\n",
        "      <th></th>\n",
        "      <th></th>\n",
        "    </tr>\n",
        "  </thead>\n",
        "  <tbody>\n",
        "    <tr>\n",
        "      <th>2011-12-01</th>\n",
        "      <td> 52.71</td>\n",
        "      <td>  0.46%</td>\n",
        "    </tr>\n",
        "    <tr>\n",
        "      <th>2011-12-02</th>\n",
        "      <td> 52.95</td>\n",
        "      <td>  0.85%</td>\n",
        "    </tr>\n",
        "    <tr>\n",
        "      <th>2011-12-05</th>\n",
        "      <td> 53.40</td>\n",
        "      <td> -0.52%</td>\n",
        "    </tr>\n",
        "    <tr>\n",
        "      <th>2011-12-06</th>\n",
        "      <td> 53.12</td>\n",
        "      <td> -0.47%</td>\n",
        "    </tr>\n",
        "    <tr>\n",
        "      <th>2011-12-07</th>\n",
        "      <td> 52.87</td>\n",
        "      <td>  0.40%</td>\n",
        "    </tr>\n",
        "    <tr>\n",
        "      <th>2011-12-08</th>\n",
        "      <td> 53.08</td>\n",
        "      <td>  0.75%</td>\n",
        "    </tr>\n",
        "    <tr>\n",
        "      <th>2011-12-09</th>\n",
        "      <td> 53.48</td>\n",
        "      <td> -0.45%</td>\n",
        "    </tr>\n",
        "    <tr>\n",
        "      <th>2011-12-12</th>\n",
        "      <td> 53.24</td>\n",
        "      <td> -0.77%</td>\n",
        "    </tr>\n",
        "    <tr>\n",
        "      <th>2011-12-13</th>\n",
        "      <td> 52.83</td>\n",
        "      <td> -2.21%</td>\n",
        "    </tr>\n",
        "    <tr>\n",
        "      <th>2011-12-14</th>\n",
        "      <td> 51.66</td>\n",
        "      <td> -0.33%</td>\n",
        "    </tr>\n",
        "    <tr>\n",
        "      <th>2011-12-15</th>\n",
        "      <td> 51.49</td>\n",
        "      <td>  0.54%</td>\n",
        "    </tr>\n",
        "    <tr>\n",
        "      <th>2011-12-16</th>\n",
        "      <td> 51.77</td>\n",
        "      <td>  0.31%</td>\n",
        "    </tr>\n",
        "    <tr>\n",
        "      <th>2011-12-19</th>\n",
        "      <td> 51.93</td>\n",
        "      <td>  3.60%</td>\n",
        "    </tr>\n",
        "    <tr>\n",
        "      <th>2011-12-20</th>\n",
        "      <td> 53.80</td>\n",
        "      <td>  0.13%</td>\n",
        "    </tr>\n",
        "    <tr>\n",
        "      <th>2011-12-21</th>\n",
        "      <td> 53.87</td>\n",
        "      <td>  0.52%</td>\n",
        "    </tr>\n",
        "    <tr>\n",
        "      <th>2011-12-22</th>\n",
        "      <td> 54.15</td>\n",
        "      <td>  1.20%</td>\n",
        "    </tr>\n",
        "    <tr>\n",
        "      <th>2011-12-23</th>\n",
        "      <td> 54.80</td>\n",
        "      <td>  0.78%</td>\n",
        "    </tr>\n",
        "    <tr>\n",
        "      <th>2011-12-27</th>\n",
        "      <td> 55.23</td>\n",
        "      <td> -0.94%</td>\n",
        "    </tr>\n",
        "    <tr>\n",
        "      <th>2011-12-28</th>\n",
        "      <td> 54.71</td>\n",
        "      <td>  0.60%</td>\n",
        "    </tr>\n",
        "    <tr>\n",
        "      <th>2011-12-29</th>\n",
        "      <td> 55.04</td>\n",
        "      <td> -0.02%</td>\n",
        "    </tr>\n",
        "    <tr>\n",
        "      <th>2011-12-30</th>\n",
        "      <td> 55.03</td>\n",
        "      <td>  0.00%</td>\n",
        "    </tr>\n",
        "  </tbody>\n",
        "</table>\n",
        "<p>21 rows \u00d7 2 columns</p>\n",
        "</div>"
       ],
       "metadata": {},
       "output_type": "pyout",
       "prompt_number": 83,
       "text": [
        "            Adj Close Daily Returns %\n",
        "Date                                 \n",
        "2011-12-01      52.71           0.46%\n",
        "2011-12-02      52.95           0.85%\n",
        "2011-12-05      53.40          -0.52%\n",
        "2011-12-06      53.12          -0.47%\n",
        "2011-12-07      52.87           0.40%\n",
        "2011-12-08      53.08           0.75%\n",
        "2011-12-09      53.48          -0.45%\n",
        "2011-12-12      53.24          -0.77%\n",
        "2011-12-13      52.83          -2.21%\n",
        "2011-12-14      51.66          -0.33%\n",
        "2011-12-15      51.49           0.54%\n",
        "2011-12-16      51.77           0.31%\n",
        "2011-12-19      51.93           3.60%\n",
        "2011-12-20      53.80           0.13%\n",
        "2011-12-21      53.87           0.52%\n",
        "2011-12-22      54.15           1.20%\n",
        "2011-12-23      54.80           0.78%\n",
        "2011-12-27      55.23          -0.94%\n",
        "2011-12-28      54.71           0.60%\n",
        "2011-12-29      55.04          -0.02%\n",
        "2011-12-30      55.03           0.00%\n",
        "\n",
        "[21 rows x 2 columns]"
       ]
      }
     ],
     "prompt_number": 83
    },
    {
     "cell_type": "code",
     "collapsed": false,
     "input": [],
     "language": "python",
     "metadata": {},
     "outputs": []
    }
   ],
   "metadata": {}
  }
 ]
}